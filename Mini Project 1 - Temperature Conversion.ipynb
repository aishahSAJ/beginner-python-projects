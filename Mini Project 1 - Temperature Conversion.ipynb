{
 "cells": [
  {
   "cell_type": "markdown",
   "id": "included-irrigation",
   "metadata": {},
   "source": [
    "# Mini Project 1: Temperature Conversion"
   ]
  },
  {
   "cell_type": "markdown",
   "id": "quick-daughter",
   "metadata": {},
   "source": [
    "* Create a simple temperature conversion application that converts the temperature measurements from degrees Celsius to degrees Fahrenheit or vice versa based on the mode selection by the user. \n",
    "* The comments below serves as a guide for you to complete the project. \n",
    "* You are free to add extra features to the project given that you satisfy all the requirements that was asked.\n",
    "\n",
    "Note: You need to attach the .txt file when you are submitting"
   ]
  },
  {
   "cell_type": "code",
   "execution_count": null,
   "id": "bound-pharmacology",
   "metadata": {},
   "outputs": [],
   "source": [
    "# Import all the modules that are required for the project here\n"
   ]
  },
  {
   "cell_type": "code",
   "execution_count": null,
   "id": "effective-compact",
   "metadata": {},
   "outputs": [
    {
     "ename": "",
     "evalue": "",
     "output_type": "error",
     "traceback": [
      "\u001b[1;31mThe kernel failed to start as a dll could not be loaded.\n",
      "\u001b[1;31mClick <a href='https://aka.ms/kernelFailuresDllLoad'>here</a> for more info."
     ]
    }
   ],
   "source": [
    "# Prompt the user to select the mode (Celsius or Fahrenheit)\n",
    "mode = input(\"Select mode for temperature conversion (Celsius to Fahrenheit - enter 'C2F', Fahrenheit to Celsius - enter 'F2C'): \")"
   ]
  },
  {
   "cell_type": "code",
   "execution_count": null,
   "id": "plain-worse",
   "metadata": {},
   "outputs": [],
   "source": [
    "# Prompt the user to insert the value that needs to be converted to the other unit"
   ]
  },
  {
   "cell_type": "code",
   "execution_count": null,
   "id": "diagnostic-little",
   "metadata": {},
   "outputs": [],
   "source": [
    "# Convert the values inserted into the other unit and display on the output"
   ]
  },
  {
   "cell_type": "code",
   "execution_count": null,
   "id": "indirect-indicator",
   "metadata": {},
   "outputs": [],
   "source": [
    "# store in a Txt or csv file with datetime information by adding a new line for each entry\n",
    "# datetime, mode, value in selected unit, converted value\n"
   ]
  }
 ],
 "metadata": {
  "kernelspec": {
   "display_name": "base",
   "language": "python",
   "name": "python3"
  },
  "language_info": {
   "codemirror_mode": {
    "name": "ipython",
    "version": 3
   },
   "file_extension": ".py",
   "mimetype": "text/x-python",
   "name": "python",
   "nbconvert_exporter": "python",
   "pygments_lexer": "ipython3",
   "version": "3.9.13"
  },
  "vscode": {
   "interpreter": {
    "hash": "ad2bdc8ecc057115af97d19610ffacc2b4e99fae6737bb82f5d7fb13d2f2c186"
   }
  }
 },
 "nbformat": 4,
 "nbformat_minor": 5
}
