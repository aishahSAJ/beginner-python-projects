{
 "cells": [
  {
   "cell_type": "markdown",
   "id": "included-irrigation",
   "metadata": {},
   "source": [
    "# Mini Project 1: Temperature Conversion"
   ]
  },
  {
   "cell_type": "markdown",
   "id": "quick-daughter",
   "metadata": {},
   "source": [
    "* Create a simple temperature conversion application that converts the temperature measurements from degrees Celsius to degrees Fahrenheit or vice versa based on the mode selection by the user. \n",
    "* The comments below serves as a guide for you to complete the project. \n",
    "* You are free to add extra features to the project given that you satisfy all the requirements that was asked.\n",
    "\n",
    "Note: You need to attach the .txt file when you are submitting"
   ]
  },
  {
   "cell_type": "code",
   "execution_count": 65,
   "id": "bound-pharmacology",
   "metadata": {},
   "outputs": [],
   "source": [
    "# Import all the modules that are required for the project here\n",
    "import math\n",
    "import csv\n",
    "from datetime import datetime"
   ]
  },
  {
   "cell_type": "code",
   "execution_count": 82,
   "id": "effective-compact",
   "metadata": {},
   "outputs": [],
   "source": [
    "# Prompt the user to select the mode (Celsius or Fahrenheit)\n",
    "mode = input(\"Please select mode 'Celsius' or 'Fahrenheit' \")"
   ]
  },
  {
   "cell_type": "code",
   "execution_count": 83,
   "id": "plain-worse",
   "metadata": {},
   "outputs": [],
   "source": [
    "# Prompt the user to insert the value that needs to be converted to the other unit\n",
    "value = float(input(\"Please insert the temperature value: \"))"
   ]
  },
  {
   "cell_type": "code",
   "execution_count": 84,
   "id": "diagnostic-little",
   "metadata": {},
   "outputs": [
    {
     "name": "stdout",
     "output_type": "stream",
     "text": [
      "98.0 Fahrenheit = 36.666666666666664 degree Celsius\n"
     ]
    }
   ],
   "source": [
    "# Convert the values inserted into the other unit and display on the output\n",
    "# degree Celsius to Fahrenheit - multiply by 1.8 (or 9/5) and add 32\n",
    "# Fahrenheit to degree Celsius - (degree Fahrenheit minus 32 and multiply by 5) and divide by 9\n",
    "\n",
    "if mode == 'Celsius' :\n",
    "    converted_value = (value * 1.8 ) + 32\n",
    "    print(value, \"degree Celsius =\", converted_value, \"Fahrenheit\")\n",
    "else:\n",
    "    converted_value = ((value - 32)*5) / 9\n",
    "    print(value, \"Fahrenheit =\", converted_value, \"degree Celsius\")"
   ]
  },
  {
   "cell_type": "code",
   "execution_count": 85,
   "id": "indirect-indicator",
   "metadata": {},
   "outputs": [
    {
     "name": "stdout",
     "output_type": "stream",
     "text": [
      "Current Time Now: 2023-02-14 14:53:30.859655\n",
      "\n"
     ]
    }
   ],
   "source": [
    "# store in a Txt or csv file with datetime information by adding a new line for each entry\n",
    "# datetime, mode, value in selected unit, converted value\n",
    "\n",
    "dt = datetime.now()\n",
    "print(\"Current Time Now:\", dt)\n",
    "\n",
    "with open(\"miniproject1.txt\", \"a\") as f:\n",
    "    f.write(f\"{dt}, {mode}, {value}, {converted_value} \\n\")\n",
    "print()\n"
   ]
  }
 ],
 "metadata": {
  "kernelspec": {
   "display_name": "base",
   "language": "python",
   "name": "python3"
  },
  "language_info": {
   "codemirror_mode": {
    "name": "ipython",
    "version": 3
   },
   "file_extension": ".py",
   "mimetype": "text/x-python",
   "name": "python",
   "nbconvert_exporter": "python",
   "pygments_lexer": "ipython3",
   "version": "3.9.13"
  },
  "vscode": {
   "interpreter": {
    "hash": "ad2bdc8ecc057115af97d19610ffacc2b4e99fae6737bb82f5d7fb13d2f2c186"
   }
  }
 },
 "nbformat": 4,
 "nbformat_minor": 5
}
