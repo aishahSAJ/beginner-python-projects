{
 "cells": [
  {
   "attachments": {},
   "cell_type": "markdown",
   "id": "identified-species",
   "metadata": {
    "slideshow": {
     "slide_type": "skip"
    }
   },
   "source": [
    "Copyright © 2020 Selangor Human Resource Development Center. All Rights Reserved."
   ]
  },
  {
   "cell_type": "markdown",
   "id": "proof-blake",
   "metadata": {},
   "source": [
    "# Data Types and Variables"
   ]
  },
  {
   "cell_type": "markdown",
   "id": "limited-short",
   "metadata": {},
   "source": [
    "1. Store a message in a variable, then print that message. Then change the value of your variable to a new message, and print the new message."
   ]
  },
  {
   "cell_type": "code",
   "execution_count": 1,
   "id": "laughing-ranking",
   "metadata": {},
   "outputs": [
    {
     "name": "stdout",
     "output_type": "stream",
     "text": [
      "I learn programming language\n"
     ]
    }
   ],
   "source": [
    "myprint = \"I learn language\"\n",
    "myprint = \"I learn programming language\"\n",
    "print(myprint)"
   ]
  },
  {
   "cell_type": "markdown",
   "id": "surrounded-amendment",
   "metadata": {},
   "source": [
    "2. Use built-in input function to prompt a number to be typed and store it inside a variable. Print the variable"
   ]
  },
  {
   "cell_type": "code",
   "execution_count": 2,
   "id": "returning-actor",
   "metadata": {},
   "outputs": [
    {
     "name": "stdout",
     "output_type": "stream",
     "text": [
      "\n",
      "<class 'str'>\n"
     ]
    },
    {
     "ename": "ValueError",
     "evalue": "invalid literal for int() with base 10: ''",
     "output_type": "error",
     "traceback": [
      "\u001b[1;31m---------------------------------------------------------------------------\u001b[0m",
      "\u001b[1;31mValueError\u001b[0m                                Traceback (most recent call last)",
      "\u001b[1;32m~\\AppData\\Local\\Temp\\ipykernel_8056\\4259832496.py\u001b[0m in \u001b[0;36m<module>\u001b[1;34m\u001b[0m\n\u001b[0;32m      2\u001b[0m \u001b[0mprint\u001b[0m\u001b[1;33m(\u001b[0m\u001b[0mx\u001b[0m\u001b[1;33m)\u001b[0m\u001b[1;33m\u001b[0m\u001b[1;33m\u001b[0m\u001b[0m\n\u001b[0;32m      3\u001b[0m \u001b[0mprint\u001b[0m\u001b[1;33m(\u001b[0m\u001b[0mtype\u001b[0m\u001b[1;33m(\u001b[0m\u001b[0mx\u001b[0m\u001b[1;33m)\u001b[0m\u001b[1;33m)\u001b[0m\u001b[1;33m\u001b[0m\u001b[1;33m\u001b[0m\u001b[0m\n\u001b[1;32m----> 4\u001b[1;33m \u001b[0mx\u001b[0m \u001b[1;33m=\u001b[0m \u001b[0mint\u001b[0m\u001b[1;33m(\u001b[0m\u001b[0mx\u001b[0m\u001b[1;33m)\u001b[0m\u001b[1;33m\u001b[0m\u001b[1;33m\u001b[0m\u001b[0m\n\u001b[0m\u001b[0;32m      5\u001b[0m \u001b[0mprint\u001b[0m\u001b[1;33m(\u001b[0m\u001b[0mtype\u001b[0m\u001b[1;33m(\u001b[0m\u001b[0mx\u001b[0m\u001b[1;33m)\u001b[0m\u001b[1;33m)\u001b[0m\u001b[1;33m\u001b[0m\u001b[1;33m\u001b[0m\u001b[0m\n",
      "\u001b[1;31mValueError\u001b[0m: invalid literal for int() with base 10: ''"
     ]
    }
   ],
   "source": [
    "x = input(\"Please enter your number: \")\n",
    "print(x)\n",
    "print(type(x))\n",
    "x = int(x)\n",
    "print(type(x))"
   ]
  },
  {
   "cell_type": "markdown",
   "id": "operational-stuart",
   "metadata": {},
   "source": [
    "## Numbers"
   ]
  },
  {
   "cell_type": "markdown",
   "id": "aging-collar",
   "metadata": {},
   "source": [
    "1. Write addition, subtraction, multiplication, and division operations that each result in the number 8. Be sure to enclose your operations in print statements to see the results. You should create four lines that look like this:\n",
    "\n",
    "            print(5 + 3)"
   ]
  },
  {
   "cell_type": "code",
   "execution_count": null,
   "id": "finnish-spanking",
   "metadata": {},
   "outputs": [
    {
     "name": "stdout",
     "output_type": "stream",
     "text": [
      "8\n",
      "8\n",
      "8\n",
      "8\n"
     ]
    }
   ],
   "source": [
    "print(1 + 7)\n",
    "print(10 - 2)\n",
    "print(4 * 2)\n",
    "print(56 // 7)"
   ]
  },
  {
   "cell_type": "markdown",
   "id": "environmental-virus",
   "metadata": {},
   "source": [
    "2. Store a number in a variable. Then, using that variable, create a message that reveals that number. Print that message."
   ]
  },
  {
   "cell_type": "code",
   "execution_count": null,
   "id": "graphic-medicaid",
   "metadata": {},
   "outputs": [
    {
     "name": "stdout",
     "output_type": "stream",
     "text": [
      "The lucky number is 7\n"
     ]
    }
   ],
   "source": [
    "y = 7\n",
    "message = \"The lucky number is \" + str(y)\n",
    "print(message)"
   ]
  },
  {
   "cell_type": "markdown",
   "id": "advanced-instrumentation",
   "metadata": {},
   "source": [
    "## Strings"
   ]
  },
  {
   "cell_type": "markdown",
   "id": "sorted-status",
   "metadata": {},
   "source": [
    "1. Use len method to print the length of the string. (Use \"Hello World\" as string)"
   ]
  },
  {
   "cell_type": "code",
   "execution_count": null,
   "id": "expressed-league",
   "metadata": {},
   "outputs": [
    {
     "name": "stdout",
     "output_type": "stream",
     "text": [
      "11\n"
     ]
    }
   ],
   "source": [
    "string = \"Hello World\"\n",
    "print(len(string))"
   ]
  },
  {
   "cell_type": "markdown",
   "id": "configured-closure",
   "metadata": {},
   "source": [
    "2. Get the first character of the string 'Hello World'"
   ]
  },
  {
   "cell_type": "code",
   "execution_count": null,
   "id": "amber-lotus",
   "metadata": {},
   "outputs": [
    {
     "name": "stdout",
     "output_type": "stream",
     "text": [
      "H\n"
     ]
    }
   ],
   "source": [
    "print(string[0])"
   ]
  },
  {
   "cell_type": "markdown",
   "id": "enabling-allocation",
   "metadata": {},
   "source": [
    "3. Get the characters from index 2 to index 4 of the same string"
   ]
  },
  {
   "cell_type": "code",
   "execution_count": null,
   "id": "prepared-facing",
   "metadata": {},
   "outputs": [
    {
     "name": "stdout",
     "output_type": "stream",
     "text": [
      "llo\n"
     ]
    }
   ],
   "source": [
    "print(string[2:5])"
   ]
  },
  {
   "cell_type": "markdown",
   "id": "occupied-cherry",
   "metadata": {},
   "source": [
    "4. Return the string without any whitespace at the beginning or the end."
   ]
  },
  {
   "cell_type": "code",
   "execution_count": null,
   "id": "velvet-actor",
   "metadata": {},
   "outputs": [
    {
     "name": "stdout",
     "output_type": "stream",
     "text": [
      " Hello I have a space before and after \n",
      "Hello I have a space before and after\n"
     ]
    }
   ],
   "source": [
    "string1 = \" Hello I have a space before and after \"\n",
    "print(string1)\n",
    "print(string1.strip())\n"
   ]
  },
  {
   "cell_type": "markdown",
   "id": "divine-threat",
   "metadata": {},
   "source": [
    "5. Convert the value of txt to upper case"
   ]
  },
  {
   "cell_type": "code",
   "execution_count": null,
   "id": "minor-return",
   "metadata": {},
   "outputs": [
    {
     "name": "stdout",
     "output_type": "stream",
     "text": [
      "HELLO\n"
     ]
    }
   ],
   "source": [
    "txt = \"Hello\"\n",
    "print(txt.upper())"
   ]
  },
  {
   "cell_type": "markdown",
   "id": "directed-entrepreneur",
   "metadata": {},
   "source": [
    "6. Convert the value of txt to lower case"
   ]
  },
  {
   "cell_type": "code",
   "execution_count": null,
   "id": "center-projection",
   "metadata": {},
   "outputs": [
    {
     "name": "stdout",
     "output_type": "stream",
     "text": [
      "hello\n"
     ]
    }
   ],
   "source": [
    "print(txt.lower())"
   ]
  },
  {
   "cell_type": "markdown",
   "id": "turkish-navigator",
   "metadata": {},
   "source": [
    "7. Replace the character 'H' with a 'J'"
   ]
  },
  {
   "cell_type": "code",
   "execution_count": null,
   "id": "configured-feature",
   "metadata": {},
   "outputs": [
    {
     "name": "stdout",
     "output_type": "stream",
     "text": [
      "Jello World\n"
     ]
    }
   ],
   "source": [
    "txt = \"Hello World\"\n",
    "print(txt.replace(\"H\", \"J\"))"
   ]
  },
  {
   "cell_type": "markdown",
   "id": "known-playlist",
   "metadata": {},
   "source": [
    "8. Insert the correct syntax to add a placeholder for the age parameter.\n",
    "\n",
    "            age = 36\n",
    "            txt = \"My name is John, and I am __\" # Use placeholder for the age parameter\n",
    "            print(txt.format(age))"
   ]
  },
  {
   "cell_type": "code",
   "execution_count": null,
   "id": "going-exposure",
   "metadata": {},
   "outputs": [
    {
     "name": "stdout",
     "output_type": "stream",
     "text": [
      "My name is John, and I am 36, This is 2023\n"
     ]
    }
   ],
   "source": [
    "age = 36\n",
    "year = 2023 # Use placeholder for the age parameter\n",
    "print(\"My name is John, and I am {}, This is {}\".format(age, year))"
   ]
  },
  {
   "cell_type": "markdown",
   "id": "explicit-stage",
   "metadata": {},
   "source": [
    "## Lists"
   ]
  },
  {
   "cell_type": "markdown",
   "id": "accepting-chess",
   "metadata": {},
   "source": [
    "1. Print the second item in the fruits list.\n",
    "\n",
    "                fruits = ['apple', 'banana', 'cherry']"
   ]
  },
  {
   "cell_type": "code",
   "execution_count": null,
   "id": "olive-highway",
   "metadata": {},
   "outputs": [
    {
     "name": "stdout",
     "output_type": "stream",
     "text": [
      "banana\n"
     ]
    }
   ],
   "source": [
    "fruits = ['apple', 'banana', 'cherry']\n",
    "print(fruits[1])"
   ]
  },
  {
   "cell_type": "markdown",
   "id": "coral-taiwan",
   "metadata": {},
   "source": [
    "2. Change the value from \"apple\" to \"kiwi\", in the fruits list."
   ]
  },
  {
   "cell_type": "code",
   "execution_count": null,
   "id": "mexican-salvation",
   "metadata": {},
   "outputs": [
    {
     "name": "stdout",
     "output_type": "stream",
     "text": [
      "['kiwi', 'banana', 'cherry']\n"
     ]
    }
   ],
   "source": [
    "fruits[0] = 'kiwi'\n",
    "print(fruits)"
   ]
  },
  {
   "cell_type": "markdown",
   "id": "parental-publicity",
   "metadata": {},
   "source": [
    "3. Use the append method to add \"orange\" to the fruits list."
   ]
  },
  {
   "cell_type": "code",
   "execution_count": null,
   "id": "photographic-occasion",
   "metadata": {},
   "outputs": [
    {
     "name": "stdout",
     "output_type": "stream",
     "text": [
      "['kiwi', 'banana', 'cherry', 'orange']\n"
     ]
    }
   ],
   "source": [
    "fruits.append(\"orange\")\n",
    "print(fruits)"
   ]
  },
  {
   "cell_type": "markdown",
   "id": "leading-leonard",
   "metadata": {},
   "source": [
    "4. Use the insert method to add \"lemon\" as the second item in the fruits list."
   ]
  },
  {
   "cell_type": "code",
   "execution_count": null,
   "id": "american-homeless",
   "metadata": {},
   "outputs": [
    {
     "name": "stdout",
     "output_type": "stream",
     "text": [
      "['apple', 'lemon', 'banana', 'cherry']\n"
     ]
    }
   ],
   "source": [
    "fruits = ['apple', 'banana', 'cherry']\n",
    "fruits.insert(1,\"lemon\")\n",
    "print(fruits)"
   ]
  },
  {
   "cell_type": "markdown",
   "id": "everyday-configuration",
   "metadata": {},
   "source": [
    "5. Use remove method to remove 'banana' from the fruits list."
   ]
  },
  {
   "cell_type": "code",
   "execution_count": null,
   "id": "atlantic-falls",
   "metadata": {},
   "outputs": [
    {
     "name": "stdout",
     "output_type": "stream",
     "text": [
      "['apple', 'lemon', 'cherry']\n"
     ]
    }
   ],
   "source": [
    "fruits.remove(\"banana\")\n",
    "print(fruits)"
   ]
  },
  {
   "cell_type": "markdown",
   "id": "direct-anthropology",
   "metadata": {},
   "source": [
    "6. Use negative indexing to print the last item in the list."
   ]
  },
  {
   "cell_type": "code",
   "execution_count": null,
   "id": "right-winter",
   "metadata": {},
   "outputs": [
    {
     "name": "stdout",
     "output_type": "stream",
     "text": [
      "cherry\n"
     ]
    }
   ],
   "source": [
    "fruits = ['apple', 'banana', 'cherry']\n",
    "print(fruits[-1])"
   ]
  },
  {
   "cell_type": "markdown",
   "id": "impressed-revolution",
   "metadata": {},
   "source": [
    "7. Use a range of indexes to print the third, fourth, and fifth item in the list.\n",
    "\n",
    "                fruits = [\"apple\", \"banana\", \"cherry\", \"orange\", \"kiwi\", \"melon\", \"mango\"]"
   ]
  },
  {
   "cell_type": "code",
   "execution_count": null,
   "id": "automated-ethernet",
   "metadata": {},
   "outputs": [
    {
     "name": "stdout",
     "output_type": "stream",
     "text": [
      "['cherry', 'orange', 'kiwi']\n"
     ]
    }
   ],
   "source": [
    "fruits = [\"apple\", \"banana\", \"cherry\", \"orange\", \"kiwi\", \"melon\", \"mango\"]\n",
    "print(fruits[2:5])"
   ]
  },
  {
   "cell_type": "markdown",
   "id": "antique-measure",
   "metadata": {},
   "source": [
    "8. Use the correct syntax to print the number of items in the list."
   ]
  },
  {
   "cell_type": "code",
   "execution_count": null,
   "id": "graduate-mailman",
   "metadata": {},
   "outputs": [
    {
     "name": "stdout",
     "output_type": "stream",
     "text": [
      "7\n"
     ]
    }
   ],
   "source": [
    "fruits = [\"apple\", \"banana\", \"cherry\", \"orange\", \"kiwi\", \"melon\", \"mango\"]\n",
    "print(len(fruits))"
   ]
  },
  {
   "cell_type": "markdown",
   "id": "optimum-tsunami",
   "metadata": {},
   "source": [
    "## Dictionaries"
   ]
  },
  {
   "cell_type": "markdown",
   "id": "prescription-thesaurus",
   "metadata": {},
   "source": [
    "1. Use get method to print the value of the 'model' key of the car dictionary.\n",
    "\n",
    "                car =\t{\n",
    "                  \"brand\": \"Ford\",\n",
    "                  \"model\": \"Mustang\",\n",
    "                  \"year\": 1964\n",
    "                }"
   ]
  },
  {
   "cell_type": "code",
   "execution_count": null,
   "id": "moral-resident",
   "metadata": {},
   "outputs": [
    {
     "name": "stdout",
     "output_type": "stream",
     "text": [
      "Mustang\n"
     ]
    }
   ],
   "source": [
    "car =\t{\n",
    "  \"brand\": \"Ford\",\n",
    "  \"model\": \"Mustang\",\n",
    "  \"year\": 1964\n",
    "}\n",
    "print(car[\"model\"])"
   ]
  },
  {
   "cell_type": "markdown",
   "id": "introductory-orlando",
   "metadata": {},
   "source": [
    "2. Change the \"year\" value from 1964 to 2020."
   ]
  },
  {
   "cell_type": "code",
   "execution_count": null,
   "id": "abstract-acceptance",
   "metadata": {},
   "outputs": [
    {
     "name": "stdout",
     "output_type": "stream",
     "text": [
      "{'brand': 'Ford', 'model': 'Mustang', 'year': 2020}\n"
     ]
    }
   ],
   "source": [
    "car =\t{\n",
    "  \"brand\": \"Ford\",\n",
    "  \"model\": \"Mustang\",\n",
    "  \"year\": 1964\n",
    "}\n",
    "car['year'] = 2020\n",
    "print(car)"
   ]
  },
  {
   "cell_type": "markdown",
   "id": "chinese-hollow",
   "metadata": {},
   "source": [
    "3. Add key/value pair 'color': 'red' to the car dictionary"
   ]
  },
  {
   "cell_type": "code",
   "execution_count": null,
   "id": "stock-alert",
   "metadata": {},
   "outputs": [
    {
     "name": "stdout",
     "output_type": "stream",
     "text": [
      "{'brand': 'Ford', 'model': 'Mustang', 'year': 2020, 'color': 'red'}\n"
     ]
    }
   ],
   "source": [
    "car['color'] = 'red'\n",
    "print(car)"
   ]
  },
  {
   "cell_type": "markdown",
   "id": "curious-transsexual",
   "metadata": {},
   "source": [
    "4. Use the pop method to remove 'model' from the car dictionary"
   ]
  },
  {
   "cell_type": "code",
   "execution_count": null,
   "id": "statutory-violin",
   "metadata": {},
   "outputs": [
    {
     "name": "stdout",
     "output_type": "stream",
     "text": [
      "Mustang\n"
     ]
    }
   ],
   "source": [
    "print(car.pop('model'))"
   ]
  },
  {
   "cell_type": "markdown",
   "id": "manufactured-butterfly",
   "metadata": {},
   "source": [
    "5. Use the clear method to empty the car dictionary."
   ]
  },
  {
   "cell_type": "code",
   "execution_count": null,
   "id": "individual-picking",
   "metadata": {},
   "outputs": [
    {
     "name": "stdout",
     "output_type": "stream",
     "text": [
      "{}\n"
     ]
    }
   ],
   "source": [
    "car.clear()\n",
    "print(car)"
   ]
  },
  {
   "cell_type": "markdown",
   "id": "loose-combine",
   "metadata": {},
   "source": [
    "## Tuples"
   ]
  },
  {
   "cell_type": "markdown",
   "id": "informed-giving",
   "metadata": {},
   "source": [
    "1. Use the correct syntax to print the first item in the fruits tuple.\n",
    "    \n",
    "                fruits = ('apple', 'banana', 'cherry')"
   ]
  },
  {
   "cell_type": "code",
   "execution_count": null,
   "id": "starting-america",
   "metadata": {},
   "outputs": [
    {
     "name": "stdout",
     "output_type": "stream",
     "text": [
      "apple\n"
     ]
    }
   ],
   "source": [
    "fruits = ('apple', 'banana', 'cherry')\n",
    "print(fruits[0])"
   ]
  },
  {
   "cell_type": "markdown",
   "id": "weighted-queue",
   "metadata": {},
   "source": [
    "2. Use the correct syntax to print the number of items in the fruits tuple."
   ]
  },
  {
   "cell_type": "code",
   "execution_count": null,
   "id": "progressive-reply",
   "metadata": {},
   "outputs": [
    {
     "name": "stdout",
     "output_type": "stream",
     "text": [
      "3\n"
     ]
    }
   ],
   "source": [
    "print(len(fruits))"
   ]
  },
  {
   "cell_type": "markdown",
   "id": "reflected-ceiling",
   "metadata": {},
   "source": [
    "3. Use negative indexing to print the last item in the tuple."
   ]
  },
  {
   "cell_type": "code",
   "execution_count": null,
   "id": "defined-treasury",
   "metadata": {},
   "outputs": [
    {
     "name": "stdout",
     "output_type": "stream",
     "text": [
      "cherry\n"
     ]
    }
   ],
   "source": [
    "print(fruits[-1])"
   ]
  },
  {
   "cell_type": "markdown",
   "id": "greek-grove",
   "metadata": {},
   "source": [
    "## Datatype conversion"
   ]
  },
  {
   "cell_type": "markdown",
   "id": "religious-mumbai",
   "metadata": {},
   "source": [
    "1. Convert number 5 to a floating point number"
   ]
  },
  {
   "cell_type": "code",
   "execution_count": null,
   "id": "behind-letter",
   "metadata": {},
   "outputs": [
    {
     "name": "stdout",
     "output_type": "stream",
     "text": [
      "5.0\n"
     ]
    }
   ],
   "source": [
    "print(float(5))"
   ]
  },
  {
   "cell_type": "markdown",
   "id": "extra-arthritis",
   "metadata": {},
   "source": [
    "2. Convert 5.5 to integer"
   ]
  },
  {
   "cell_type": "code",
   "execution_count": null,
   "id": "special-champion",
   "metadata": {},
   "outputs": [
    {
     "name": "stdout",
     "output_type": "stream",
     "text": [
      "5\n"
     ]
    }
   ],
   "source": [
    "print(int(5.5))"
   ]
  },
  {
   "cell_type": "markdown",
   "id": "progressive-warren",
   "metadata": {},
   "source": [
    "3. Convert number 5 into a complex number"
   ]
  },
  {
   "cell_type": "code",
   "execution_count": null,
   "id": "confirmed-bankruptcy",
   "metadata": {},
   "outputs": [
    {
     "name": "stdout",
     "output_type": "stream",
     "text": [
      "(5+0j)\n"
     ]
    }
   ],
   "source": [
    "z = 5 + 0j #real number + imaginary number\n",
    "print(z)"
   ]
  },
  {
   "cell_type": "markdown",
   "id": "jewish-scanner",
   "metadata": {},
   "source": [
    "# Control Statements"
   ]
  },
  {
   "cell_type": "markdown",
   "id": "endangered-birmingham",
   "metadata": {},
   "source": [
    "1. Print 'Big' if a is greater than b.\n",
    "\n",
    "                a = 50\n",
    "                b = 10"
   ]
  },
  {
   "cell_type": "code",
   "execution_count": null,
   "id": "dress-methodology",
   "metadata": {},
   "outputs": [
    {
     "name": "stdout",
     "output_type": "stream",
     "text": [
      "Big\n"
     ]
    }
   ],
   "source": [
    "a = 50\n",
    "b = 10\n",
    "if a > b:\n",
    "  print('Big')"
   ]
  },
  {
   "cell_type": "markdown",
   "id": "computational-morris",
   "metadata": {},
   "source": [
    "2. Print 'Not Equal' if a is not equal to b."
   ]
  },
  {
   "cell_type": "code",
   "execution_count": null,
   "id": "automotive-shirt",
   "metadata": {},
   "outputs": [
    {
     "name": "stdout",
     "output_type": "stream",
     "text": [
      "Not Equal\n"
     ]
    }
   ],
   "source": [
    "if a != b:\n",
    "    print('Not Equal')"
   ]
  },
  {
   "cell_type": "markdown",
   "id": "accessible-brisbane",
   "metadata": {},
   "source": [
    "3. Print \"Equal\" if a is equal to b, otherwise print \"Not Equal\""
   ]
  },
  {
   "cell_type": "code",
   "execution_count": null,
   "id": "perfect-learning",
   "metadata": {},
   "outputs": [
    {
     "name": "stdout",
     "output_type": "stream",
     "text": [
      "Not Equal\n"
     ]
    }
   ],
   "source": [
    "if a == b:\n",
    "    print(\"Equal\")\n",
    "else:\n",
    "    print(\"Not Equal\")"
   ]
  },
  {
   "cell_type": "markdown",
   "id": "sporting-antarctica",
   "metadata": {},
   "source": [
    "4. Print \"1\" if a is equal to b, print \"2\" if a is greater than b, otherwise print \"3\"."
   ]
  },
  {
   "cell_type": "code",
   "execution_count": null,
   "id": "assumed-warren",
   "metadata": {},
   "outputs": [
    {
     "name": "stdout",
     "output_type": "stream",
     "text": [
      "2\n"
     ]
    }
   ],
   "source": [
    "if a == b:\n",
    "    print(\"1\")\n",
    "elif a > b:\n",
    "    print(\"2\")\n",
    "else:\n",
    "    print(\"3\")"
   ]
  },
  {
   "cell_type": "markdown",
   "id": "active-justice",
   "metadata": {},
   "source": [
    "5. Print \"Hello\" if a is equal to b, and c is equal to d.\n",
    "\n",
    "                c = 5\n",
    "                d = 15"
   ]
  },
  {
   "cell_type": "code",
   "execution_count": null,
   "id": "demanding-debut",
   "metadata": {},
   "outputs": [],
   "source": [
    "a = 50\n",
    "b = 10\n",
    "c = 5\n",
    "d = 15\n",
    "if a == b and c == d:\n",
    "  print(\"Hello\")"
   ]
  },
  {
   "cell_type": "markdown",
   "id": "broke-palmer",
   "metadata": {},
   "source": [
    "6. Print \"Hello\" if a is equal to b, or if c is equal to d."
   ]
  },
  {
   "cell_type": "code",
   "execution_count": null,
   "id": "broad-frost",
   "metadata": {},
   "outputs": [],
   "source": [
    "if a == b or c == d:\n",
    "  print(\"Hello\")"
   ]
  },
  {
   "cell_type": "markdown",
   "id": "bigger-whole",
   "metadata": {},
   "source": [
    "7. Use the correct short hand syntax to write the following conditional expression in one line:\n",
    "    \n",
    "                if 5 > 2:\n",
    "                  print(\"Yes\")\n",
    "                else\n",
    "                  print(\"No\")"
   ]
  },
  {
   "cell_type": "code",
   "execution_count": null,
   "id": "helpful-garage",
   "metadata": {},
   "outputs": [
    {
     "name": "stdout",
     "output_type": "stream",
     "text": [
      "Yes\n"
     ]
    }
   ],
   "source": [
    "print(\"Yes\") if 5 > 2 else print(\"No\")"
   ]
  },
  {
   "cell_type": "markdown",
   "id": "filled-twist",
   "metadata": {},
   "source": [
    "# Functions"
   ]
  },
  {
   "cell_type": "markdown",
   "id": "junior-tiger",
   "metadata": {},
   "source": [
    "1. Create a function named my_function to print 'Hello from a function' when called"
   ]
  },
  {
   "cell_type": "code",
   "execution_count": null,
   "id": "political-wound",
   "metadata": {},
   "outputs": [
    {
     "name": "stdout",
     "output_type": "stream",
     "text": [
      "Hello from a function\n"
     ]
    }
   ],
   "source": [
    "def my_function():\n",
    "  print('Hello from a function')"
   ]
  },
  {
   "cell_type": "markdown",
   "id": "sought-native",
   "metadata": {},
   "source": [
    "2. Execute a function named my_function.\n",
    "\n",
    "                def my_function():\n",
    "                  print(\"Hello from a function\")"
   ]
  },
  {
   "cell_type": "code",
   "execution_count": null,
   "id": "confirmed-coaching",
   "metadata": {},
   "outputs": [
    {
     "name": "stdout",
     "output_type": "stream",
     "text": [
      "Hello from a function\n"
     ]
    }
   ],
   "source": [
    "def my_function():\n",
    "  print(\"Hello from a function\")\n",
    "\n",
    "my_function()"
   ]
  },
  {
   "cell_type": "markdown",
   "id": "oriented-evidence",
   "metadata": {},
   "source": [
    "3. Let the function return the x parameter + 5.                "
   ]
  },
  {
   "cell_type": "code",
   "execution_count": null,
   "id": "arctic-flash",
   "metadata": {},
   "outputs": [
    {
     "name": "stdout",
     "output_type": "stream",
     "text": [
      "10\n"
     ]
    }
   ],
   "source": [
    "def my_function(x):\n",
    "    return x + 5\n",
    "print(my_function(5))"
   ]
  },
  {
   "cell_type": "markdown",
   "id": "minimal-conditioning",
   "metadata": {},
   "source": [
    "## Lambda"
   ]
  },
  {
   "cell_type": "markdown",
   "id": "industrial-style",
   "metadata": {},
   "source": [
    "1. Create a lambda function that takes one parameter a and returns it"
   ]
  },
  {
   "cell_type": "code",
   "execution_count": null,
   "id": "noted-reality",
   "metadata": {},
   "outputs": [
    {
     "name": "stdout",
     "output_type": "stream",
     "text": [
      "60\n"
     ]
    }
   ],
   "source": [
    "x = lambda a: a\n",
    "\n",
    "print(x(60))"
   ]
  },
  {
   "cell_type": "markdown",
   "id": "unauthorized-stick",
   "metadata": {},
   "source": [
    "# Loops"
   ]
  },
  {
   "cell_type": "markdown",
   "id": "conscious-length",
   "metadata": {},
   "source": [
    "### For Loops"
   ]
  },
  {
   "cell_type": "markdown",
   "id": "seeing-memorial",
   "metadata": {},
   "source": [
    "1. Loop through the items in the fruits list and print each item\n",
    "\n",
    "                fruits = ['apple', 'banana', 'cherry']"
   ]
  },
  {
   "cell_type": "code",
   "execution_count": null,
   "id": "front-missile",
   "metadata": {},
   "outputs": [
    {
     "name": "stdout",
     "output_type": "stream",
     "text": [
      "apple banana cherry "
     ]
    }
   ],
   "source": [
    "fruits = ['apple', 'banana', 'cherry']\n",
    "for a in fruits:\n",
    "  print(a, end=\" \")"
   ]
  },
  {
   "cell_type": "markdown",
   "id": "seventh-lecture",
   "metadata": {},
   "source": [
    "2. In the loop, when item value is 'banana', jump directly to the next item."
   ]
  },
  {
   "cell_type": "code",
   "execution_count": null,
   "id": "proud-respect",
   "metadata": {},
   "outputs": [
    {
     "name": "stdout",
     "output_type": "stream",
     "text": [
      "apple\n",
      "cherry\n"
     ]
    }
   ],
   "source": [
    "for a in fruits:\n",
    "    if a == \"banana\":\n",
    "        continue\n",
    "    print(a)"
   ]
  },
  {
   "cell_type": "markdown",
   "id": "bizarre-wallace",
   "metadata": {},
   "source": [
    "3. Use the range function to loop through a code set 6 times"
   ]
  },
  {
   "cell_type": "code",
   "execution_count": null,
   "id": "comprehensive-viking",
   "metadata": {},
   "outputs": [
    {
     "name": "stdout",
     "output_type": "stream",
     "text": [
      "0\n",
      "1\n",
      "2\n",
      "3\n",
      "4\n",
      "5\n"
     ]
    }
   ],
   "source": [
    "for a in range(6):\n",
    "    print(a)"
   ]
  },
  {
   "cell_type": "markdown",
   "id": "organizational-shoot",
   "metadata": {},
   "source": [
    "4. Exit the loop when x is 'banana'"
   ]
  },
  {
   "cell_type": "code",
   "execution_count": null,
   "id": "verbal-silly",
   "metadata": {},
   "outputs": [
    {
     "name": "stdout",
     "output_type": "stream",
     "text": [
      "apple\n",
      "banana\n"
     ]
    }
   ],
   "source": [
    "for a in fruits:\n",
    "    print(a)\n",
    "    if a == \"banana\":\n",
    "        break"
   ]
  },
  {
   "cell_type": "markdown",
   "id": "immune-drawing",
   "metadata": {},
   "source": [
    "### While Loops"
   ]
  },
  {
   "cell_type": "markdown",
   "id": "strategic-wrist",
   "metadata": {},
   "source": [
    "1. Print i as long as i is less than 6."
   ]
  },
  {
   "cell_type": "code",
   "execution_count": null,
   "id": "resistant-favor",
   "metadata": {},
   "outputs": [],
   "source": [
    "i = 1\n",
    "while i < 6:\n",
    "    print(i)\n",
    "    i +=1"
   ]
  },
  {
   "cell_type": "markdown",
   "id": "fixed-suite",
   "metadata": {},
   "source": [
    "2. Stop the loop if i is 3"
   ]
  },
  {
   "cell_type": "code",
   "execution_count": null,
   "id": "previous-masters",
   "metadata": {},
   "outputs": [
    {
     "name": "stdout",
     "output_type": "stream",
     "text": [
      "1\n",
      "2\n",
      "3\n"
     ]
    }
   ],
   "source": [
    "i = 1\n",
    "while i < 6:\n",
    "    print(i)\n",
    "    if i == 3:\n",
    "        break\n",
    "    i += 1"
   ]
  },
  {
   "cell_type": "markdown",
   "id": "amateur-wrist",
   "metadata": {},
   "source": [
    "3. In the loop, when i is 3, jump directly to the next iteration. "
   ]
  },
  {
   "cell_type": "code",
   "execution_count": null,
   "id": "cloudy-affairs",
   "metadata": {},
   "outputs": [
    {
     "name": "stdout",
     "output_type": "stream",
     "text": [
      "1\n",
      "2\n",
      "4\n",
      "5\n",
      "6\n"
     ]
    }
   ],
   "source": [
    "#1st variation\n",
    "i = 0\n",
    "while i < 6:\n",
    "    i += 1\n",
    "    if i == 3:\n",
    "        continue\n",
    "    print(i)"
   ]
  },
  {
   "cell_type": "code",
   "execution_count": null,
   "id": "c8ce46c7",
   "metadata": {},
   "outputs": [
    {
     "name": "stdout",
     "output_type": "stream",
     "text": [
      "1\n",
      "2\n",
      "4\n",
      "5\n",
      "6\n"
     ]
    }
   ],
   "source": [
    "#2nd variation\n",
    "i = 0\n",
    "while i < 6:\n",
    "    i +=1\n",
    "    if i == 3:\n",
    "        pass\n",
    "    else:\n",
    "        print(i)"
   ]
  },
  {
   "cell_type": "code",
   "execution_count": null,
   "id": "dabfa326",
   "metadata": {},
   "outputs": [
    {
     "name": "stdout",
     "output_type": "stream",
     "text": [
      "1\n",
      "2\n",
      "4\n",
      "5\n",
      "6\n"
     ]
    }
   ],
   "source": [
    "#3rd variation\n",
    "i = 0\n",
    "while i < 6:\n",
    "    i +=1\n",
    "    if i != 3:\n",
    "        print(i)"
   ]
  },
  {
   "cell_type": "markdown",
   "id": "motivated-circulation",
   "metadata": {},
   "source": [
    "4. Print a message once the condition is false"
   ]
  },
  {
   "cell_type": "code",
   "execution_count": null,
   "id": "checked-hands",
   "metadata": {},
   "outputs": [
    {
     "name": "stdout",
     "output_type": "stream",
     "text": [
      "1\n",
      "2\n",
      "3\n",
      "4\n",
      "5\n",
      "i is no longer less than 6\n"
     ]
    }
   ],
   "source": [
    "i = 1\n",
    "while i < 6:\n",
    "  print(i)\n",
    "  i += 1\n",
    "else:\n",
    "  print('i is no longer less than 6')"
   ]
  },
  {
   "cell_type": "markdown",
   "id": "given-renaissance",
   "metadata": {},
   "source": [
    "# Mathematical Function"
   ]
  },
  {
   "cell_type": "markdown",
   "id": "british-update",
   "metadata": {},
   "source": [
    "### Built-in Math Functions\n",
    "\n",
    "1. Find the lowest value of the 3 numbers (5, 10, 25)"
   ]
  },
  {
   "cell_type": "code",
   "execution_count": null,
   "id": "supreme-scanner",
   "metadata": {},
   "outputs": [
    {
     "name": "stdout",
     "output_type": "stream",
     "text": [
      "5\n"
     ]
    }
   ],
   "source": [
    "print(min(5, 10, 25))"
   ]
  },
  {
   "cell_type": "markdown",
   "id": "quantitative-lemon",
   "metadata": {},
   "source": [
    "2. Find the number that has the highest value (5, 10, 25)"
   ]
  },
  {
   "cell_type": "code",
   "execution_count": null,
   "id": "unable-transition",
   "metadata": {},
   "outputs": [
    {
     "name": "stdout",
     "output_type": "stream",
     "text": [
      "25\n"
     ]
    }
   ],
   "source": [
    "print(max(5, 10, 25))"
   ]
  },
  {
   "cell_type": "markdown",
   "id": "dental-exposure",
   "metadata": {},
   "source": [
    "3. Find the absolute value of the number -7.25"
   ]
  },
  {
   "cell_type": "code",
   "execution_count": null,
   "id": "chicken-bryan",
   "metadata": {},
   "outputs": [
    {
     "name": "stdout",
     "output_type": "stream",
     "text": [
      "7.25\n"
     ]
    }
   ],
   "source": [
    "print(abs(-7.25))"
   ]
  },
  {
   "cell_type": "markdown",
   "id": "aerial-portuguese",
   "metadata": {},
   "source": [
    "4. Find the value of x to the power of y. (x = 4, y =3)"
   ]
  },
  {
   "cell_type": "code",
   "execution_count": null,
   "id": "tamil-growth",
   "metadata": {},
   "outputs": [
    {
     "name": "stdout",
     "output_type": "stream",
     "text": [
      "64\n"
     ]
    }
   ],
   "source": [
    "print(pow(4, 3))"
   ]
  },
  {
   "cell_type": "markdown",
   "id": "revolutionary-mixture",
   "metadata": {},
   "source": [
    "### The Math Module\n",
    "1. Find the square root of 64"
   ]
  },
  {
   "cell_type": "code",
   "execution_count": null,
   "id": "occasional-democracy",
   "metadata": {},
   "outputs": [
    {
     "name": "stdout",
     "output_type": "stream",
     "text": [
      "8.0\n"
     ]
    }
   ],
   "source": [
    "import math\n",
    "print(math.sqrt(64))"
   ]
  },
  {
   "cell_type": "markdown",
   "id": "chicken-activation",
   "metadata": {},
   "source": [
    "2. Round upwards the number 1.4 to the nearest integer"
   ]
  },
  {
   "cell_type": "code",
   "execution_count": null,
   "id": "bridal-robinson",
   "metadata": {},
   "outputs": [
    {
     "name": "stdout",
     "output_type": "stream",
     "text": [
      "2\n"
     ]
    }
   ],
   "source": [
    "print(math.ceil(1.4))\n"
   ]
  },
  {
   "cell_type": "markdown",
   "id": "dedicated-subscription",
   "metadata": {},
   "source": [
    "3. Round downwards the number 1.4 to the nearest integer"
   ]
  },
  {
   "cell_type": "code",
   "execution_count": null,
   "id": "rough-boundary",
   "metadata": {},
   "outputs": [
    {
     "name": "stdout",
     "output_type": "stream",
     "text": [
      "1\n"
     ]
    }
   ],
   "source": [
    "print(math.floor(1.4))"
   ]
  },
  {
   "cell_type": "markdown",
   "id": "minor-hardware",
   "metadata": {},
   "source": [
    "4. Print the value of pi using the math module"
   ]
  },
  {
   "cell_type": "code",
   "execution_count": null,
   "id": "determined-swaziland",
   "metadata": {},
   "outputs": [
    {
     "name": "stdout",
     "output_type": "stream",
     "text": [
      "3.141592653589793\n"
     ]
    }
   ],
   "source": [
    "print(math.pi)"
   ]
  },
  {
   "cell_type": "markdown",
   "id": "coordinate-declaration",
   "metadata": {},
   "source": [
    "# Generating Random Numbers"
   ]
  },
  {
   "cell_type": "markdown",
   "id": "systematic-cleaning",
   "metadata": {},
   "source": [
    "1. Print a random number between the value 0 and 1 "
   ]
  },
  {
   "cell_type": "code",
   "execution_count": null,
   "id": "affiliated-interview",
   "metadata": {},
   "outputs": [
    {
     "name": "stdout",
     "output_type": "stream",
     "text": [
      "0.7664674826717157\n"
     ]
    }
   ],
   "source": [
    "import random\n",
    "\n",
    "print(random.random()) #generates a random number between 0 and 1(Excluded) -> 0-0.999999999999"
   ]
  },
  {
   "cell_type": "markdown",
   "id": "after-nightmare",
   "metadata": {},
   "source": [
    "2. Print a random integer between the value 1 and 50"
   ]
  },
  {
   "cell_type": "code",
   "execution_count": null,
   "id": "trying-fiber",
   "metadata": {},
   "outputs": [
    {
     "name": "stdout",
     "output_type": "stream",
     "text": [
      "20\n"
     ]
    }
   ],
   "source": [
    "print(random.randint(1,50))"
   ]
  },
  {
   "cell_type": "markdown",
   "id": "handmade-orleans",
   "metadata": {},
   "source": [
    "3. Print a random float value between 0 and 50"
   ]
  },
  {
   "cell_type": "code",
   "execution_count": null,
   "id": "seasonal-front",
   "metadata": {},
   "outputs": [
    {
     "name": "stdout",
     "output_type": "stream",
     "text": [
      "46.61644403236069\n"
     ]
    }
   ],
   "source": [
    "print(random.uniform(0, 50))"
   ]
  }
 ],
 "metadata": {
  "kernelspec": {
   "display_name": "base",
   "language": "python",
   "name": "python3"
  },
  "language_info": {
   "codemirror_mode": {
    "name": "ipython",
    "version": 3
   },
   "file_extension": ".py",
   "mimetype": "text/x-python",
   "name": "python",
   "nbconvert_exporter": "python",
   "pygments_lexer": "ipython3",
   "version": "3.9.13"
  },
  "vscode": {
   "interpreter": {
    "hash": "ad2bdc8ecc057115af97d19610ffacc2b4e99fae6737bb82f5d7fb13d2f2c186"
   }
  }
 },
 "nbformat": 4,
 "nbformat_minor": 5
}
