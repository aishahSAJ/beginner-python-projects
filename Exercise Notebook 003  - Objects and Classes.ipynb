{
 "cells": [
  {
   "cell_type": "markdown",
   "id": "identified-species",
   "metadata": {
    "slideshow": {
     "slide_type": "skip"
    }
   },
   "source": [
    "Copyright © 2020 Selangor Human Resource Development Center. All Rights Reserved."
   ]
  },
  {
   "cell_type": "markdown",
   "id": "lightweight-turner",
   "metadata": {},
   "source": [
    "# Objects and Classes"
   ]
  },
  {
   "cell_type": "markdown",
   "id": "second-discussion",
   "metadata": {},
   "source": [
    "1. Create an empty class named MyClass"
   ]
  },
  {
   "cell_type": "code",
   "execution_count": 3,
   "id": "romance-signature",
   "metadata": {},
   "outputs": [],
   "source": [
    "class MyClass:\n",
    "    pass"
   ]
  },
  {
   "cell_type": "markdown",
   "id": "satisfied-scanner",
   "metadata": {},
   "source": [
    "2. Create an object of MyClass called p1\n",
    "\n",
    "                class MyClass:\n",
    "                    x = 5"
   ]
  },
  {
   "cell_type": "code",
   "execution_count": 12,
   "id": "3e847532",
   "metadata": {},
   "outputs": [],
   "source": [
    "class MyClass:\n",
    "    x = 5"
   ]
  },
  {
   "cell_type": "code",
   "execution_count": 11,
   "id": "nuclear-zimbabwe",
   "metadata": {},
   "outputs": [],
   "source": [
    "p1 = MyClass()"
   ]
  },
  {
   "cell_type": "markdown",
   "id": "going-married",
   "metadata": {},
   "source": [
    "3. Use the p1 object to print the value of x"
   ]
  },
  {
   "cell_type": "code",
   "execution_count": 6,
   "id": "quick-annotation",
   "metadata": {},
   "outputs": [
    {
     "name": "stdout",
     "output_type": "stream",
     "text": [
      "5\n"
     ]
    }
   ],
   "source": [
    "print(p1.x)"
   ]
  },
  {
   "cell_type": "markdown",
   "id": "respected-match",
   "metadata": {},
   "source": [
    "4. What is the correct syntax to assign a \"init\" function with arguments name and age to a class named Person?"
   ]
  },
  {
   "cell_type": "code",
   "execution_count": 1,
   "id": "celtic-accounting",
   "metadata": {},
   "outputs": [
    {
     "name": "stdout",
     "output_type": "stream",
     "text": [
      "The person's name is Aishah and age 24 years old\n"
     ]
    }
   ],
   "source": [
    "class Person:\n",
    "    def __init__(self, name, age):\n",
    "        self.name = name\n",
    "        self.age = age\n",
    "\n",
    "n = Person(\"Aishah\", 24)\n",
    "print(\"The person's name is\", n.name, \"and age\",n.age,\"years old\")"
   ]
  },
  {
   "cell_type": "markdown",
   "id": "czech-telescope",
   "metadata": {},
   "source": [
    "5. Write a Python class named Rectangle constructed by a length and width and a method which will compute the area of a rectangle."
   ]
  },
  {
   "cell_type": "code",
   "execution_count": 18,
   "id": "polar-sullivan",
   "metadata": {},
   "outputs": [
    {
     "name": "stdout",
     "output_type": "stream",
     "text": [
      "200\n"
     ]
    }
   ],
   "source": [
    "\n",
    "class Rectangle():\n",
    "    def __init__(self, length, width):\n",
    "        self.length = length\n",
    "        self.width = width\n",
    "\n",
    "    def area(self):\n",
    "        return self.length*self.width\n",
    "\n",
    "rect = Rectangle(20,10)\n",
    "print(rect.area())"
   ]
  },
  {
   "cell_type": "markdown",
   "id": "civic-mention",
   "metadata": {},
   "source": [
    "6. Write a Python class named Circle constructed by a radius and two methods which will compute the area and the perimeter of a circle"
   ]
  },
  {
   "cell_type": "code",
   "execution_count": 23,
   "id": "invalid-citizenship",
   "metadata": {},
   "outputs": [
    {
     "name": "stdout",
     "output_type": "stream",
     "text": [
      "The area of the circle is 314.1592653589793\n",
      "The perimeter of the circle is 62.83185307179586\n"
     ]
    }
   ],
   "source": [
    "import math\n",
    "\n",
    "class Circle():\n",
    "\n",
    "    def __init__(self, radius):\n",
    "        self.radius = radius\n",
    "    \n",
    "    def area(self):\n",
    "        area = math.pi*(pow(self.radius,2))\n",
    "        return area\n",
    "    \n",
    "    def perimeter(self):\n",
    "        peri = 2*math.pi* self.radius\n",
    "        return peri\n",
    "\n",
    "c = Circle(10)\n",
    "print(\"The area of the circle is {}\".format(c.area()))\n",
    "print(\"The perimeter of the circle is {}\".format(c.perimeter()))\n",
    "\n"
   ]
  }
 ],
 "metadata": {
  "kernelspec": {
   "display_name": "base",
   "language": "python",
   "name": "python3"
  },
  "language_info": {
   "codemirror_mode": {
    "name": "ipython",
    "version": 3
   },
   "file_extension": ".py",
   "mimetype": "text/x-python",
   "name": "python",
   "nbconvert_exporter": "python",
   "pygments_lexer": "ipython3",
   "version": "3.9.13"
  },
  "vscode": {
   "interpreter": {
    "hash": "ad2bdc8ecc057115af97d19610ffacc2b4e99fae6737bb82f5d7fb13d2f2c186"
   }
  }
 },
 "nbformat": 4,
 "nbformat_minor": 5
}
