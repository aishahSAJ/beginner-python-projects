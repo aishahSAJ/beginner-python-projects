{
 "cells": [
  {
   "cell_type": "markdown",
   "id": "cosmetic-earthquake",
   "metadata": {},
   "source": [
    "# Mini Project 2 - Stopwatch Application"
   ]
  },
  {
   "cell_type": "markdown",
   "id": "alpha-cheat",
   "metadata": {},
   "source": [
    "* Create a stopwatch application that has functions start(), stop() and reset().\n",
    "* The count should start when you call the start() function.\n",
    "* When stop() function is called stop the count and return the duration.\n",
    "* Calling reset() function will reset the duration to 0\n",
    "* Extra: Log the events as a new line every time the stop() function is called into a CSV file"
   ]
  },
  {
   "cell_type": "code",
   "execution_count": 18,
   "id": "lyric-romania",
   "metadata": {},
   "outputs": [],
   "source": [
    "# import the necessary modules\n",
    "import csv\n",
    "import time"
   ]
  },
  {
   "cell_type": "code",
   "execution_count": 19,
   "id": "7731fd9c",
   "metadata": {},
   "outputs": [],
   "source": [
    "#create a new class\n",
    "#assign value for time and duration\n",
    "class Stopwatch:\n",
    "    def __init__(self, start_time, stop_time, duration):\n",
    "        self.start_time = start_time\n",
    "        self.stop_time = stop_time\n",
    "        self.duration = duration"
   ]
  },
  {
   "cell_type": "code",
   "execution_count": 21,
   "id": "adjusted-salvation",
   "metadata": {},
   "outputs": [],
   "source": [
    "# start() function\n",
    "# count start when start() function called\n",
    "def start(self):\n",
    "    self.start_time = time.time()"
   ]
  },
  {
   "cell_type": "code",
   "execution_count": 23,
   "id": "urban-spank",
   "metadata": {},
   "outputs": [],
   "source": [
    "# stop() function\n",
    "# stop the count and return the duration\n",
    "def stop(self):\n",
    "        self.stop_time = time.time()\n",
    "        self.duration = self.stop_time - self.start_time"
   ]
  },
  {
   "cell_type": "code",
   "execution_count": 25,
   "id": "intense-disaster",
   "metadata": {},
   "outputs": [],
   "source": [
    "# reset() function\n",
    "# should reset the duration to 0\n",
    "def reset(self):\n",
    "        self.start_time = 0\n",
    "        self.stop_time = 0\n",
    "        self.duration = 0"
   ]
  },
  {
   "cell_type": "code",
   "execution_count": 27,
   "id": "0f7b1fef",
   "metadata": {},
   "outputs": [
    {
     "ename": "IndentationError",
     "evalue": "expected an indented block (1295626256.py, line 5)",
     "output_type": "error",
     "traceback": [
      "\u001b[1;36m  File \u001b[1;32m\"C:\\Users\\USER\\AppData\\Local\\Temp\\ipykernel_7616\\1295626256.py\"\u001b[1;36m, line \u001b[1;32m5\u001b[0m\n\u001b[1;33m    f = open(\"miniproject2_log.csv\", \"a\")\u001b[0m\n\u001b[1;37m    ^\u001b[0m\n\u001b[1;31mIndentationError\u001b[0m\u001b[1;31m:\u001b[0m expected an indented block\n"
     ]
    }
   ],
   "source": [
    "# use csv file to log the event when stop() function is called\n",
    "# how? why? haiya so hard\n",
    "def stop(self):\n",
    "        self.stop_time = time.time()\n",
    "        self.duration = self.stop_time - self.start_time\n",
    "f = open(\"miniproject2_log.csv\", \"a\")\n",
    "log_writer = csv.writer(f)\n",
    "log_writer.writerow([time.ctime(self.stop_time), self.duration])\n",
    "f.close()\n",
    "return self.duration\n",
    "\n"
   ]
  },
  {
   "cell_type": "code",
   "execution_count": null,
   "metadata": {},
   "outputs": [],
   "source": [
    "with open(\"stopwatch_log.csv\", \"a\") as log:\n",
    "            log_event = csv.event(log)\n",
    "            log_event.event([time.ctime(self.stop_time), self.duration])\n",
    "        return self.duration"
   ]
  }
 ],
 "metadata": {
  "kernelspec": {
   "display_name": "base",
   "language": "python",
   "name": "python3"
  },
  "language_info": {
   "codemirror_mode": {
    "name": "ipython",
    "version": 3
   },
   "file_extension": ".py",
   "mimetype": "text/x-python",
   "name": "python",
   "nbconvert_exporter": "python",
   "pygments_lexer": "ipython3",
   "version": "3.9.13"
  },
  "vscode": {
   "interpreter": {
    "hash": "ad2bdc8ecc057115af97d19610ffacc2b4e99fae6737bb82f5d7fb13d2f2c186"
   }
  }
 },
 "nbformat": 4,
 "nbformat_minor": 5
}
