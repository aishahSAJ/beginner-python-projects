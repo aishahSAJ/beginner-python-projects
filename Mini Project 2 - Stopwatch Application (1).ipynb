{
 "cells": [
  {
   "cell_type": "markdown",
   "id": "cosmetic-earthquake",
   "metadata": {},
   "source": [
    "# Mini Project 2 - Stopwatch Application"
   ]
  },
  {
   "cell_type": "markdown",
   "id": "alpha-cheat",
   "metadata": {},
   "source": [
    "* Create a stopwatch application that has functions start(), stop() and reset().\n",
    "* The count should start when you call the start() function.\n",
    "* When stop() function is called stop the count and return the duration.\n",
    "* Calling reset() function will reset the duration to 0\n",
    "* Extra: Log the events as a new line every time the stop() function is called into a CSV file"
   ]
  },
  {
   "cell_type": "code",
   "execution_count": 41,
   "id": "lyric-romania",
   "metadata": {},
   "outputs": [],
   "source": [
    "# import the necessary modules\n",
    "import csv\n",
    "import time"
   ]
  },
  {
   "cell_type": "code",
   "execution_count": 52,
   "id": "adjusted-salvation",
   "metadata": {},
   "outputs": [],
   "source": [
    "# start() function\n",
    "# count start when start() function called\n",
    "def start(self):\n",
    "    self.start_time = time.time()"
   ]
  },
  {
   "cell_type": "code",
   "execution_count": 72,
   "id": "urban-spank",
   "metadata": {},
   "outputs": [],
   "source": [
    "# stop() function\n",
    "# stop the count and return the duration\n",
    "def stop(self):\n",
    "        self.stop_time = time.time()\n",
    "        self.duration = self.end_time - self.start_time\n",
    "        return self.duration\n",
    "\n",
    "# use csv file to log the event when stop() function is called\n",
    "        f = open(\"miniproject2.csv\", \"a\")\n",
    "        f.write = csv.write(f)\n",
    "        f.close()\n",
    "        \n",
    "#open and read the file after the appending:\n",
    "        f = open(\"miniproject2.txt\", \"r\")\n",
    "        print(f.read())"
   ]
  },
  {
   "cell_type": "code",
   "execution_count": 71,
   "id": "intense-disaster",
   "metadata": {},
   "outputs": [],
   "source": [
    "# reset() function\n",
    "# should reset the duration to 0\n",
    "def reset(self):\n",
    "        self.start_time = 0\n",
    "        self.stop_time = 0\n",
    "        self.duration = 0\n"
   ]
  }
 ],
 "metadata": {
  "kernelspec": {
   "display_name": "base",
   "language": "python",
   "name": "python3"
  },
  "language_info": {
   "codemirror_mode": {
    "name": "ipython",
    "version": 3
   },
   "file_extension": ".py",
   "mimetype": "text/x-python",
   "name": "python",
   "nbconvert_exporter": "python",
   "pygments_lexer": "ipython3",
   "version": "3.9.13"
  },
  "vscode": {
   "interpreter": {
    "hash": "ad2bdc8ecc057115af97d19610ffacc2b4e99fae6737bb82f5d7fb13d2f2c186"
   }
  }
 },
 "nbformat": 4,
 "nbformat_minor": 5
}
