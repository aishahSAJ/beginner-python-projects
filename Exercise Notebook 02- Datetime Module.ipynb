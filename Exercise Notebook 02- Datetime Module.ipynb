{
 "cells": [
  {
   "cell_type": "markdown",
   "id": "processed-barcelona",
   "metadata": {},
   "source": [
    "# Datetime Module"
   ]
  },
  {
   "cell_type": "markdown",
   "id": "amended-contact",
   "metadata": {},
   "source": [
    "1. Write a Python script to display the various Date Time formats using print functions"
   ]
  },
  {
   "cell_type": "markdown",
   "id": "sophisticated-posting",
   "metadata": {},
   "source": [
    "* Current date and time"
   ]
  },
  {
   "cell_type": "code",
   "execution_count": 29,
   "id": "bored-washer",
   "metadata": {},
   "outputs": [
    {
     "name": "stdout",
     "output_type": "stream",
     "text": [
      "2023-02-10 10:24:40.626633\n"
     ]
    }
   ],
   "source": [
    "import datetime\n",
    "print(datetime.datetime.now())"
   ]
  },
  {
   "cell_type": "code",
   "execution_count": 30,
   "id": "bf15edc3",
   "metadata": {},
   "outputs": [
    {
     "name": "stdout",
     "output_type": "stream",
     "text": [
      "Malaysia time now is: 2023-02-10 10:24:42.918658\n"
     ]
    }
   ],
   "source": [
    "from datetime import datetime\n",
    "dt = datetime.now()\n",
    "print(\"Malaysia time now is:\", dt)"
   ]
  },
  {
   "cell_type": "markdown",
   "id": "composed-pointer",
   "metadata": {},
   "source": [
    "* Current year"
   ]
  },
  {
   "cell_type": "code",
   "execution_count": 6,
   "id": "attractive-escape",
   "metadata": {},
   "outputs": [
    {
     "name": "stdout",
     "output_type": "stream",
     "text": [
      "2023\n"
     ]
    }
   ],
   "source": [
    "import datetime\n",
    "x = datetime.datetime.now()\n",
    "print(x.strftime(\"%Y\"))"
   ]
  },
  {
   "cell_type": "code",
   "execution_count": 28,
   "id": "25430a95",
   "metadata": {},
   "outputs": [
    {
     "name": "stdout",
     "output_type": "stream",
     "text": [
      "2023\n"
     ]
    }
   ],
   "source": [
    "import datetime\n",
    "x = datetime.datetime.now()\n",
    "print(x.year)"
   ]
  },
  {
   "cell_type": "code",
   "execution_count": 24,
   "id": "a00515dc",
   "metadata": {},
   "outputs": [
    {
     "name": "stdout",
     "output_type": "stream",
     "text": [
      "Current year is 2023\n"
     ]
    }
   ],
   "source": [
    "from datetime import date\n",
    "dt = date.today()\n",
    "print(\"Current year is\", dt.year)"
   ]
  },
  {
   "cell_type": "markdown",
   "id": "literary-award",
   "metadata": {},
   "source": [
    "* Month of year"
   ]
  },
  {
   "cell_type": "code",
   "execution_count": 34,
   "id": "f808d1cc",
   "metadata": {},
   "outputs": [
    {
     "name": "stdout",
     "output_type": "stream",
     "text": [
      "Month of the year is 2\n"
     ]
    }
   ],
   "source": [
    "from datetime import date\n",
    "print(\"Month of the year is\", dt.month)"
   ]
  },
  {
   "cell_type": "code",
   "execution_count": 33,
   "id": "global-madness",
   "metadata": {},
   "outputs": [
    {
     "name": "stdout",
     "output_type": "stream",
     "text": [
      "February\n"
     ]
    }
   ],
   "source": [
    "import datetime\n",
    "x = datetime.datetime.now()\n",
    "print(x.strftime(\"%B\"))"
   ]
  },
  {
   "cell_type": "markdown",
   "id": "limiting-patio",
   "metadata": {},
   "source": [
    "* Week number of the year"
   ]
  },
  {
   "cell_type": "code",
   "execution_count": 35,
   "id": "scientific-essence",
   "metadata": {},
   "outputs": [
    {
     "name": "stdout",
     "output_type": "stream",
     "text": [
      "06\n"
     ]
    }
   ],
   "source": [
    "import datetime\n",
    "x = datetime.datetime.now()\n",
    "print(x.strftime(\"%W\"))"
   ]
  },
  {
   "cell_type": "code",
   "execution_count": 36,
   "id": "c9b04578",
   "metadata": {},
   "outputs": [
    {
     "name": "stdout",
     "output_type": "stream",
     "text": [
      "Current week of the year : 6\n"
     ]
    }
   ],
   "source": [
    "import datetime\n",
    "print(\"Current week of the year :\", dt.isocalendar()[1])"
   ]
  },
  {
   "cell_type": "code",
   "execution_count": 29,
   "id": "c24f7b80",
   "metadata": {},
   "outputs": [
    {
     "name": "stdout",
     "output_type": "stream",
     "text": [
      "Week number of the year is 06\n"
     ]
    }
   ],
   "source": [
    "from datetime import datetime\n",
    "number_of_weeks = datetime.today().strftime('%W')\n",
    "print(\"Week number of the year is\", number_of_weeks)"
   ]
  },
  {
   "cell_type": "code",
   "execution_count": 38,
   "id": "d7fe96fc",
   "metadata": {},
   "outputs": [
    {
     "data": {
      "text/plain": [
       "datetime.date(2023, 2, 10)"
      ]
     },
     "execution_count": 38,
     "metadata": {},
     "output_type": "execute_result"
    }
   ],
   "source": [
    "import datetime\n",
    "date.today() #change object format to string format ->strftime"
   ]
  },
  {
   "cell_type": "markdown",
   "id": "posted-angle",
   "metadata": {},
   "source": [
    "* Weekday of the week"
   ]
  },
  {
   "cell_type": "code",
   "execution_count": 34,
   "id": "minimal-magnitude",
   "metadata": {},
   "outputs": [
    {
     "name": "stdout",
     "output_type": "stream",
     "text": [
      "4\n"
     ]
    }
   ],
   "source": [
    "import datetime\n",
    "x = datetime.datetime.now()\n",
    "print(x.strftime('%w'))"
   ]
  },
  {
   "cell_type": "code",
   "execution_count": 36,
   "id": "30d4b9af",
   "metadata": {},
   "outputs": [
    {
     "name": "stdout",
     "output_type": "stream",
     "text": [
      "Week number of the year is 4\n"
     ]
    }
   ],
   "source": [
    "from datetime import datetime\n",
    "\n",
    "number_of_weeks = datetime.today().strftime('%w')\n",
    "print(\"Week number of the year is\", number_of_weeks)"
   ]
  },
  {
   "cell_type": "markdown",
   "id": "lucky-ecology",
   "metadata": {},
   "source": [
    "* Day of year"
   ]
  },
  {
   "cell_type": "code",
   "execution_count": 37,
   "id": "alternative-comment",
   "metadata": {},
   "outputs": [
    {
     "name": "stdout",
     "output_type": "stream",
     "text": [
      "040\n"
     ]
    }
   ],
   "source": [
    "import datetime\n",
    "x = datetime.datetime.now()\n",
    "print(x.strftime(\"%j\"))"
   ]
  },
  {
   "cell_type": "code",
   "execution_count": 38,
   "id": "f6c81952",
   "metadata": {},
   "outputs": [
    {
     "name": "stdout",
     "output_type": "stream",
     "text": [
      "Day of year:  040\n"
     ]
    }
   ],
   "source": [
    "from datetime import datetime\n",
    "\n",
    "print(\"Day of year: \",datetime.today().strftime('%j'))"
   ]
  },
  {
   "cell_type": "markdown",
   "id": "rough-toilet",
   "metadata": {},
   "source": [
    "* Day of the month"
   ]
  },
  {
   "cell_type": "code",
   "execution_count": 42,
   "id": "present-neutral",
   "metadata": {},
   "outputs": [
    {
     "name": "stdout",
     "output_type": "stream",
     "text": [
      "09\n"
     ]
    }
   ],
   "source": [
    "import datetime\n",
    "x = datetime.datetime.now()\n",
    "print(x.strftime(\"%d\"))"
   ]
  },
  {
   "cell_type": "code",
   "execution_count": 43,
   "id": "1de14caf",
   "metadata": {},
   "outputs": [
    {
     "name": "stdout",
     "output_type": "stream",
     "text": [
      "Day of month: 09\n"
     ]
    }
   ],
   "source": [
    "from datetime import datetime\n",
    "\n",
    "print(\"Day of month:\",datetime.today().strftime('%d'))"
   ]
  },
  {
   "cell_type": "markdown",
   "id": "unnecessary-communication",
   "metadata": {},
   "source": [
    "* Day of week"
   ]
  },
  {
   "cell_type": "code",
   "execution_count": 39,
   "id": "specialized-rubber",
   "metadata": {},
   "outputs": [
    {
     "name": "stdout",
     "output_type": "stream",
     "text": [
      "Thursday\n"
     ]
    }
   ],
   "source": [
    "import datetime\n",
    "x = datetime.datetime.now()\n",
    "print(x.strftime(\"%A\"))"
   ]
  },
  {
   "cell_type": "code",
   "execution_count": 5,
   "id": "41c4e7a6",
   "metadata": {},
   "outputs": [
    {
     "name": "stdout",
     "output_type": "stream",
     "text": [
      "Day of week:  Friday\n"
     ]
    }
   ],
   "source": [
    "from datetime import datetime\n",
    "\n",
    "print(\"Day of week: \",datetime.today().strftime('%A'))"
   ]
  },
  {
   "cell_type": "markdown",
   "id": "moved-galaxy",
   "metadata": {},
   "source": [
    "2. Write a Python program to convert a string to datetime\n",
    "\n",
    "                'Jul 1 2014 2:43PM'"
   ]
  },
  {
   "cell_type": "code",
   "execution_count": 18,
   "id": "advance-territory",
   "metadata": {},
   "outputs": [
    {
     "name": "stdout",
     "output_type": "stream",
     "text": [
      "2014-07-01 14:43:00\n"
     ]
    }
   ],
   "source": [
    "from datetime import datetime\n",
    "string_date = 'Jul 1 2014 2:43PM'\n",
    "datetime_object = datetime.strptime(string_date, '%b %d %Y %I:%M%p')\n",
    "print(datetime_object)"
   ]
  },
  {
   "cell_type": "markdown",
   "id": "intensive-latino",
   "metadata": {},
   "source": [
    "3. Write a Python program to subtract five days from current date"
   ]
  },
  {
   "cell_type": "code",
   "execution_count": 7,
   "id": "secret-monaco",
   "metadata": {},
   "outputs": [
    {
     "name": "stdout",
     "output_type": "stream",
     "text": [
      "5 days before current date: 2023-02-05 09:45:03.908388\n"
     ]
    }
   ],
   "source": [
    "from datetime import datetime, timedelta\n",
    "\n",
    "current_date = datetime.today()\n",
    "\n",
    "sub = current_date - timedelta(days=5)\n",
    "print(\"5 days before current date:\",sub)"
   ]
  },
  {
   "cell_type": "markdown",
   "id": "blond-trust",
   "metadata": {},
   "source": [
    "4. Write a Python program to print yesterday, today, tomorrow."
   ]
  },
  {
   "cell_type": "code",
   "execution_count": 25,
   "id": "alternative-cambridge",
   "metadata": {},
   "outputs": [
    {
     "name": "stdout",
     "output_type": "stream",
     "text": [
      "Yesterday date : 2023-02-09 10:22:57.524642\n",
      "Today date : 2023-02-10 10:22:57.524642\n",
      "Tomorrow date : 2023-02-11 10:22:57.524642\n"
     ]
    }
   ],
   "source": [
    "from datetime import datetime, timedelta\n",
    "yesterday = datetime.today() - timedelta(days=1)\n",
    "today = datetime.today()\n",
    "tomorrow = datetime.today() + timedelta(days=1)\n",
    "print(\"Yesterday date :\", yesterday)\n",
    "print(\"Today date :\", today)\n",
    "print(\"Tomorrow date :\", tomorrow)"
   ]
  },
  {
   "cell_type": "code",
   "execution_count": 23,
   "id": "823976f4",
   "metadata": {},
   "outputs": [
    {
     "name": "stdout",
     "output_type": "stream",
     "text": [
      "Yesterday :  2023-02-09\n",
      "Today :  2023-02-10\n",
      "Tomorrow :  2023-02-11\n"
     ]
    }
   ],
   "source": [
    "import datetime \n",
    "\n",
    "yesterday = today - datetime.timedelta(days = 1)\n",
    "today = datetime.date.today()\n",
    "tomorrow = today + datetime.timedelta(days = 1) \n",
    "print('Yesterday : ',yesterday)\n",
    "print('Today : ',today)\n",
    "print('Tomorrow : ',tomorrow)"
   ]
  },
  {
   "cell_type": "markdown",
   "id": "optimum-potential",
   "metadata": {},
   "source": [
    "5. Write a Python program to add 5 seconds with the current time."
   ]
  },
  {
   "cell_type": "code",
   "execution_count": 9,
   "id": "smooth-democrat",
   "metadata": {},
   "outputs": [
    {
     "name": "stdout",
     "output_type": "stream",
     "text": [
      "5 seconds from now is: 09:48:16.716151\n"
     ]
    }
   ],
   "source": [
    "from datetime import datetime, timedelta\n",
    "add_5secs = datetime.now() + timedelta(seconds=5)\n",
    "\n",
    "print(\"5 seconds from now is:\",add_5secs.time())"
   ]
  },
  {
   "cell_type": "markdown",
   "id": "fatal-titanium",
   "metadata": {},
   "source": [
    "6. Write a Python program to find the date of the Monday of week 50 in 2010."
   ]
  },
  {
   "cell_type": "code",
   "execution_count": 27,
   "id": "blond-announcement",
   "metadata": {},
   "outputs": [
    {
     "name": "stdout",
     "output_type": "stream",
     "text": [
      "2010-12-13 00:00:00\n"
     ]
    }
   ],
   "source": [
    "from datetime import datetime, timedelta\n",
    "date_string = \"Monday 50 2010\"\n",
    "datetime_object = datetime.strptime(date_string, \"%A %W %Y\")\n",
    "print(datetime_object)"
   ]
  },
  {
   "cell_type": "markdown",
   "id": "later-messenger",
   "metadata": {},
   "source": [
    "7. Write a Python program to convert today's date to timestamp"
   ]
  },
  {
   "cell_type": "code",
   "execution_count": 11,
   "id": "completed-stack",
   "metadata": {},
   "outputs": [
    {
     "name": "stdout",
     "output_type": "stream",
     "text": [
      "1675993844.145015\n"
     ]
    }
   ],
   "source": [
    "from datetime import datetime, timedelta\n",
    "\n",
    "datetime_object = datetime.now()\n",
    "print(datetime_object.timestamp())"
   ]
  },
  {
   "cell_type": "markdown",
   "id": "technical-squad",
   "metadata": {},
   "source": [
    "8. Write a Python program to convert a string date of '27/09/2021' to the timestamp."
   ]
  },
  {
   "cell_type": "code",
   "execution_count": 39,
   "id": "exciting-banner",
   "metadata": {},
   "outputs": [
    {
     "name": "stdout",
     "output_type": "stream",
     "text": [
      "1632672000.0\n"
     ]
    }
   ],
   "source": [
    "from datetime import datetime, timedelta\n",
    "date_string = \"27/09/2021\"\n",
    "datetime_object = datetime.strptime(date_string, '%d/%m/%Y')\n",
    "print(datetime_object.timestamp())"
   ]
  },
  {
   "cell_type": "markdown",
   "id": "variable-colony",
   "metadata": {},
   "source": [
    "9. Convert the timestamp 1545730073 to datetime format"
   ]
  },
  {
   "cell_type": "code",
   "execution_count": 14,
   "id": "prerequisite-tourism",
   "metadata": {},
   "outputs": [
    {
     "name": "stdout",
     "output_type": "stream",
     "text": [
      "datetime:  2018-12-25 17:27:53\n"
     ]
    }
   ],
   "source": [
    "#Convert timestamp to datetime object\n",
    "\n",
    "timestamp = 1545730073\n",
    "datetime_object = datetime.fromtimestamp(timestamp)\n",
    "print('datetime: ', datetime_object)"
   ]
  },
  {
   "cell_type": "code",
   "execution_count": null,
   "id": "refined-motel",
   "metadata": {},
   "outputs": [],
   "source": []
  }
 ],
 "metadata": {
  "kernelspec": {
   "display_name": "Python 3.9.13 ('base')",
   "language": "python",
   "name": "python3"
  },
  "language_info": {
   "codemirror_mode": {
    "name": "ipython",
    "version": 3
   },
   "file_extension": ".py",
   "mimetype": "text/x-python",
   "name": "python",
   "nbconvert_exporter": "python",
   "pygments_lexer": "ipython3",
   "version": "3.9.13"
  },
  "vscode": {
   "interpreter": {
    "hash": "ad2bdc8ecc057115af97d19610ffacc2b4e99fae6737bb82f5d7fb13d2f2c186"
   }
  }
 },
 "nbformat": 4,
 "nbformat_minor": 5
}
