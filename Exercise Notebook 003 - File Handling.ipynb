{
 "cells": [
  {
   "cell_type": "markdown",
   "id": "ultimate-morning",
   "metadata": {
    "slideshow": {
     "slide_type": "skip"
    }
   },
   "source": [
    "Copyright © 2020 Selangor Human Resource Development Center. All Rights Reserved."
   ]
  },
  {
   "cell_type": "markdown",
   "id": "chicken-burton",
   "metadata": {},
   "source": [
    "# File Handling"
   ]
  },
  {
   "cell_type": "markdown",
   "id": "pretty-paste",
   "metadata": {},
   "source": [
    "1. Write a Python program to write a list content to a file ('abc.txt').\n",
    "\n",
    "                color = ['Red', 'Green', 'White', 'Black', 'Pink', 'Yellow']"
   ]
  },
  {
   "cell_type": "code",
   "execution_count": 6,
   "id": "pressed-gravity",
   "metadata": {},
   "outputs": [],
   "source": [
    "color = ['Red', 'Green', 'White', 'Black', 'Pink', 'Yellow']\n",
    "\n",
    "f = open('abc.txt', 'w')\n",
    "for c in color:\n",
    "    f.write(\"{}\\n\".format(c))\n",
    "f.close()"
   ]
  },
  {
   "cell_type": "code",
   "execution_count": 7,
   "id": "e442f0df",
   "metadata": {},
   "outputs": [],
   "source": [
    "with open('abc.txt', 'w') as f:\n",
    "    for c in color:\n",
    "        f.write(\"{}\\n\".format(c))"
   ]
  },
  {
   "cell_type": "code",
   "execution_count": 8,
   "id": "ec18f91f",
   "metadata": {},
   "outputs": [
    {
     "name": "stdout",
     "output_type": "stream",
     "text": [
      "Red\n",
      "Green\n",
      "White\n",
      "Black\n",
      "Pink\n",
      "Yellow\n",
      "\n"
     ]
    }
   ],
   "source": [
    "f = open('abc.txt','r')\n",
    "print(f.read())\n",
    "f.close()"
   ]
  },
  {
   "cell_type": "markdown",
   "id": "associate-charter",
   "metadata": {},
   "source": [
    "2. Write a Python program to copy contents of earlier text file to another file ('def.txt')"
   ]
  },
  {
   "cell_type": "code",
   "execution_count": 11,
   "id": "arranged-stability",
   "metadata": {},
   "outputs": [
    {
     "data": {
      "text/plain": [
       "'def.txt'"
      ]
     },
     "execution_count": 11,
     "metadata": {},
     "output_type": "execute_result"
    }
   ],
   "source": [
    "import shutil\n",
    "\n",
    "shutil.copyfile('abc.txt', 'def.txt')"
   ]
  },
  {
   "cell_type": "code",
   "execution_count": 12,
   "metadata": {},
   "outputs": [
    {
     "name": "stdout",
     "output_type": "stream",
     "text": [
      "Red\n",
      "Green\n",
      "White\n",
      "Black\n",
      "Pink\n",
      "Yellow\n",
      "\n"
     ]
    }
   ],
   "source": [
    "f = open('def.txt', 'r')\n",
    "print(f.read())\n",
    "f.close()"
   ]
  },
  {
   "cell_type": "markdown",
   "id": "italian-discrimination",
   "metadata": {},
   "source": [
    "3. Write a Python program to combine each line from first file with the corresponding line in second file.\n",
    "   * Use 'abc.txt' and 'def.txt'"
   ]
  },
  {
   "cell_type": "code",
   "execution_count": 24,
   "id": "everyday-accordance",
   "metadata": {},
   "outputs": [
    {
     "name": "stdout",
     "output_type": "stream",
     "text": [
      "Red\n",
      "Red\n",
      "\n",
      "Green\n",
      "Green\n",
      "\n",
      "White\n",
      "White\n",
      "\n",
      "Black\n",
      "Black\n",
      "\n",
      "Pink\n",
      "Pink\n",
      "\n",
      "Yellow\n",
      "Yellow\n",
      "\n"
     ]
    }
   ],
   "source": [
    "with open('abc.txt', 'r') as firstfile, open('def.txt','r') as secondfile:\n",
    "    for line1, line2 in zip(firstfile, secondfile):\n",
    "        print(line1 + line2)"
   ]
  },
  {
   "cell_type": "markdown",
   "id": "quarterly-holocaust",
   "metadata": {},
   "source": [
    "4. Write a Python program to read a random line from a file ('abc.txt')"
   ]
  },
  {
   "cell_type": "code",
   "execution_count": 17,
   "id": "equivalent-wonder",
   "metadata": {},
   "outputs": [
    {
     "name": "stdout",
     "output_type": "stream",
     "text": [
      "['Red', 'Green', 'White', 'Black', 'Pink', 'Yellow']\n",
      "Black\n"
     ]
    }
   ],
   "source": [
    "color = ['Red', 'Green', 'White', 'Black', 'Pink', 'Yellow']\n",
    "import random\n",
    "f= open('abc.txt').read().splitlines()\n",
    "print(f)\n",
    "print(random.choice(f))"
   ]
  },
  {
   "cell_type": "markdown",
   "id": "composed-deficit",
   "metadata": {},
   "source": [
    "5. Write a Python program to read a file line by line and store it into an array"
   ]
  },
  {
   "cell_type": "code",
   "execution_count": 20,
   "id": "acknowledged-shoulder",
   "metadata": {},
   "outputs": [
    {
     "name": "stdout",
     "output_type": "stream",
     "text": [
      "['Red', 'Green', 'White', 'Black', 'Pink', 'Yellow']\n"
     ]
    }
   ],
   "source": [
    "array = []\n",
    "with open('abc.txt', 'r') as f:\n",
    "    for line in f:\n",
    "        array.append(line.rstrip())\n",
    "print(array)\n"
   ]
  }
 ],
 "metadata": {
  "kernelspec": {
   "display_name": "Python 3.9.13 ('base')",
   "language": "python",
   "name": "python3"
  },
  "language_info": {
   "codemirror_mode": {
    "name": "ipython",
    "version": 3
   },
   "file_extension": ".py",
   "mimetype": "text/x-python",
   "name": "python",
   "nbconvert_exporter": "python",
   "pygments_lexer": "ipython3",
   "version": "3.9.13"
  },
  "vscode": {
   "interpreter": {
    "hash": "ad2bdc8ecc057115af97d19610ffacc2b4e99fae6737bb82f5d7fb13d2f2c186"
   }
  }
 },
 "nbformat": 4,
 "nbformat_minor": 5
}
